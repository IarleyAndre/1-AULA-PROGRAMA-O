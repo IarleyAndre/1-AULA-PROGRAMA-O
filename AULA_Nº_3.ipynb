{
  "nbformat": 4,
  "nbformat_minor": 0,
  "metadata": {
    "colab": {
      "provenance": [],
      "authorship_tag": "ABX9TyOWBBJ7wQTrFwhXzKeQcQQ1",
      "include_colab_link": true
    },
    "kernelspec": {
      "name": "python3",
      "display_name": "Python 3"
    },
    "language_info": {
      "name": "python"
    }
  },
  "cells": [
    {
      "cell_type": "markdown",
      "metadata": {
        "id": "view-in-github",
        "colab_type": "text"
      },
      "source": [
        "<a href=\"https://colab.research.google.com/github/IarleyAndre/1-AULA-PROGRAMA-O/blob/main/AULA_N%C2%BA_3.ipynb\" target=\"_parent\"><img src=\"https://colab.research.google.com/assets/colab-badge.svg\" alt=\"Open In Colab\"/></a>"
      ]
    },
    {
      "cell_type": "code",
      "execution_count": 1,
      "metadata": {
        "colab": {
          "base_uri": "https://localhost:8080/"
        },
        "id": "oSFoy3cvkxra",
        "outputId": "ba910f71-038c-45e2-f638-05572c2164c1"
      },
      "outputs": [
        {
          "output_type": "stream",
          "name": "stdout",
          "text": [
            "Meu nome e iarley, e tenho : 17\n"
          ]
        }
      ],
      "source": [
        "int idade = 17\n",
        "print(\"Meu nome e iarley, e tenho :\", idade)\n"
      ]
    },
    {
      "cell_type": "code",
      "source": [
        "a = 60\n",
        "b = 55\n",
        "\n",
        "print(a+b)\n",
        "print(a-b)\n",
        "print(a*b)\n",
        "print(a/b)\n",
        "print(a%b) #O resto da operaçao\n"
      ],
      "metadata": {
        "colab": {
          "base_uri": "https://localhost:8080/"
        },
        "id": "hyGxX2Yxlr7W",
        "outputId": "ebc9a73c-dec8-451f-d763-d4524bff2818"
      },
      "execution_count": 2,
      "outputs": [
        {
          "output_type": "stream",
          "name": "stdout",
          "text": [
            "115\n",
            "5\n",
            "3300\n",
            "1.0909090909090908\n",
            "5\n"
          ]
        }
      ]
    },
    {
      "cell_type": "code",
      "source": [
        "nome =input('Digite seu nome: ') #Strings\n",
        "print('Ola,' + nome)"
      ],
      "metadata": {
        "colab": {
          "base_uri": "https://localhost:8080/"
        },
        "id": "G87eHpYZm1Hz",
        "outputId": "6cb5f4a3-02d4-42ba-ad56-7422ea0849e3"
      },
      "execution_count": 5,
      "outputs": [
        {
          "output_type": "stream",
          "name": "stdout",
          "text": [
            "Digite seu nome: Joseph\n",
            "Ola,Joseph\n"
          ]
        }
      ]
    },
    {
      "cell_type": "code",
      "source": [
        "#codigo para idade\n",
        "anoNascimento = int(input('Digite o ano do nascimento!'))\n",
        "print('Sua idade e: ', 2023-anoNascimento)"
      ],
      "metadata": {
        "colab": {
          "base_uri": "https://localhost:8080/"
        },
        "id": "mLI_DT4tntiq",
        "outputId": "a999c5d1-c298-42d2-9794-3d120210f9d7"
      },
      "execution_count": 16,
      "outputs": [
        {
          "output_type": "stream",
          "name": "stdout",
          "text": [
            "Digite o ano do nascimento!2005\n",
            "Sua idade e:  18\n"
          ]
        }
      ]
    },
    {
      "cell_type": "code",
      "source": [
        "#Solicita a altura e o peso de alguem, e retorna o IMC\n",
        "#IMC = peso / Altura**2\n",
        "\n",
        "altura =  float(input(\"infome a altura! \"))\n",
        "\n",
        "peso = float(input(\"informe o peso! \"))\n",
        "\n",
        "imc = peso/altura**2\n",
        "print('O IMC e:', round(imc,2))"
      ],
      "metadata": {
        "colab": {
          "base_uri": "https://localhost:8080/"
        },
        "id": "EOsAZF4FovW-",
        "outputId": "439f8889-a00e-4bdb-996f-158c0af04814"
      },
      "execution_count": 39,
      "outputs": [
        {
          "output_type": "stream",
          "name": "stdout",
          "text": [
            "infome a altura! 1.74\n",
            "informe o peso! 75\n",
            "O IMC e: 24.77\n"
          ]
        }
      ]
    },
    {
      "cell_type": "code",
      "source": [
        "#verificar se um numero e par \n",
        "num = int (input('Digite um número '))\n",
        "if(num%2 == 0):\n",
        "  print(' O numero é par ')\n",
        "   \n",
        "else:\n",
        " print('O número e impar') \n"
      ],
      "metadata": {
        "colab": {
          "base_uri": "https://localhost:8080/"
        },
        "id": "UTYRM4Wqt3Ff",
        "outputId": "fd915041-f461-4f64-f89a-3fb3d24229d4"
      },
      "execution_count": 35,
      "outputs": [
        {
          "output_type": "stream",
          "name": "stdout",
          "text": [
            "Digite um número 4865\n",
            "O número e impar\n"
          ]
        }
      ]
    },
    {
      "cell_type": "code",
      "source": [
        "#verificação logica\n",
        "a = 45\n",
        "b = 33\n",
        "print(a > b)\n",
        "print(a < b)\n",
        "print( a == b)\n",
        "print(a != b)\n"
      ],
      "metadata": {
        "colab": {
          "base_uri": "https://localhost:8080/"
        },
        "id": "Oi3bUKC4u0ZE",
        "outputId": "581b9bfa-2978-4697-b129-cf70ab0f161f"
      },
      "execution_count": 29,
      "outputs": [
        {
          "output_type": "stream",
          "name": "stdout",
          "text": [
            "True\n",
            "False\n",
            "False\n",
            "True\n"
          ]
        }
      ]
    },
    {
      "cell_type": "code",
      "source": [
        "#Em um campeonato de MMA, tem tres categorias por peso\n",
        "#pena ate 70kg\n",
        "#medio ate 80kg\n",
        "#meio pesado ate 90kg\n",
        "#pesado mais de 90kg\n",
        "peso = float(input('Digite o peso do atleta: '))\n",
        "if(peso <= 70):\n",
        "   print('pena')\n",
        "elif(peso <= 80):\n",
        " print('medio')\n",
        "elif(peso <= 90):\n",
        " print('meio pesado')\n",
        "else:\n",
        "  print('pesado')\n",
        " "
      ],
      "metadata": {
        "colab": {
          "base_uri": "https://localhost:8080/"
        },
        "id": "94OvEoM_yYOu",
        "outputId": "1e17a425-4b8f-48d8-c465-ae76e51f4816"
      },
      "execution_count": 38,
      "outputs": [
        {
          "output_type": "stream",
          "name": "stdout",
          "text": [
            "Digite o peso do atleta: 91\n",
            "pesado\n"
          ]
        }
      ]
    },
    {
      "cell_type": "code",
      "source": [
        "altura = float(input(\"informe o altura \"))\n",
        "\n",
        "peso = float(input('informe o peso '))\n",
        "\n",
        "imc = peso/altura**2\n",
        "  \n",
        "print('o seu IMC e', round(imc,2))\n",
        "\n",
        "if(imc < 18.5):\n",
        " print('Abaixo do peso normal')\n",
        "elif(imc <= 24.9):\n",
        " print('peso normal')\n",
        "elif(imc <= 29.9): \n",
        " print('excesso de peso')\n",
        "elif(imc <=34.9):\n",
        " print('Obesidade classe 1')\n",
        "elif(imc <=39.9):\n",
        "  print('Obesidade classe 2')\n",
        "else:\n",
        " print('Obesidade classe 3')"
      ],
      "metadata": {
        "colab": {
          "base_uri": "https://localhost:8080/"
        },
        "id": "9AXdl5-V1FcC",
        "outputId": "069ad523-7653-419c-b39c-5875e2bcc918"
      },
      "execution_count": 46,
      "outputs": [
        {
          "output_type": "stream",
          "name": "stdout",
          "text": [
            "informe o altura 1.61\n",
            "informe o peso 50\n",
            "o seu IMC e 19.29\n",
            "peso normal\n"
          ]
        }
      ]
    }
  ]
}