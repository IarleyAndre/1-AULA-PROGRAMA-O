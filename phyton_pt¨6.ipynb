{
  "nbformat": 4,
  "nbformat_minor": 0,
  "metadata": {
    "colab": {
      "provenance": [],
      "authorship_tag": "ABX9TyOTE5nE9b3kDsgssbQh0yWn",
      "include_colab_link": true
    },
    "kernelspec": {
      "name": "python3",
      "display_name": "Python 3"
    },
    "language_info": {
      "name": "python"
    }
  },
  "cells": [
    {
      "cell_type": "markdown",
      "metadata": {
        "id": "view-in-github",
        "colab_type": "text"
      },
      "source": [
        "<a href=\"https://colab.research.google.com/github/IarleyAndre/1-AULA-PROGRAMA-O/blob/main/phyton_pt%C2%A86.ipynb\" target=\"_parent\"><img src=\"https://colab.research.google.com/assets/colab-badge.svg\" alt=\"Open In Colab\"/></a>"
      ]
    },
    {
      "cell_type": "code",
      "source": [
        "#Para usa biblioteca random,precisa importa la\n",
        "import random\n",
        "#criar uma lista com tamanho aleatorio entre (0 a 50)\n",
        "numeros =[]\n",
        "for numero in range(random.randrange(0,50)):\n",
        "   numeros.append(numero)\n",
        "\n",
        "numeros"
      ],
      "metadata": {
        "colab": {
          "base_uri": "https://localhost:8080/"
        },
        "id": "oSsYUOLh1GEl",
        "outputId": "ef97b163-e489-4e9d-af1b-c2171cd1fe33"
      },
      "execution_count": 5,
      "outputs": [
        {
          "output_type": "execute_result",
          "data": {
            "text/plain": [
              "[0, 1, 2, 3, 4, 5, 6, 7, 8, 9, 10, 11, 12]"
            ]
          },
          "metadata": {},
          "execution_count": 5
        }
      ]
    },
    {
      "cell_type": "code",
      "source": [
        "#tuplas nao mudam\n",
        "#dicionarios são mutaves \n",
        "\n",
        "#criando listas \n",
        "nomes = [\"ze \", \" tinhao\" , ' joaquim']\n",
        "nomes.append('julia')\n",
        "nomes\n",
        "\n",
        "#Varios nomes \n",
        "outrosNomes = [\"ana\", ' maria' , \"bia\" , ' mario']\n",
        "nomes.extend(outrosNomes)\n",
        "\n",
        "nomes"
      ],
      "metadata": {
        "colab": {
          "base_uri": "https://localhost:8080/"
        },
        "id": "7fteJJRK6PGe",
        "outputId": "e85ad9d7-d538-4dc7-efa1-8061e3e0f759"
      },
      "execution_count": 7,
      "outputs": [
        {
          "output_type": "execute_result",
          "data": {
            "text/plain": [
              "['ze ', ' tinhao', ' joaquim', 'julia', 'ana', ' maria', 'bia', ' mario']"
            ]
          },
          "metadata": {},
          "execution_count": 7
        }
      ]
    },
    {
      "cell_type": "code",
      "source": [
        " # Remoção de elementos \n",
        " #remove()_ Remove o primeiro elemento\n",
        " #pop()- remove o ultimo elemento\n",
        "\n",
        " #crie uma lista de numeros e\n",
        "numeros = [2, 3, 4, 5, 5, 7, 8]\n",
        " #remova o  primeiro numero da lista\n",
        "numeros.remove(numeros[0])\n",
        "#remova o ultimo elemento da lista\n",
        "numeros.pop()\n",
        "\n",
        "numeros"
      ],
      "metadata": {
        "colab": {
          "base_uri": "https://localhost:8080/"
        },
        "id": "jaaN5oge9UoS",
        "outputId": "98eab52d-b330-4715-ce22-25d05a7b96b8"
      },
      "execution_count": 13,
      "outputs": [
        {
          "output_type": "execute_result",
          "data": {
            "text/plain": [
              "[3, 4, 5, 5, 7]"
            ]
          },
          "metadata": {},
          "execution_count": 13
        }
      ]
    },
    {
      "cell_type": "code",
      "source": [
        "#Ordenação de elementos\n",
        "#lista.sort()- Ordena em ordem crescente\n",
        "#lista . sort(reverse=True) - ordena em ordem decrescente\n",
        "\n",
        "\n",
        "#1 - crie uma lista de notas, e exiba-a a menor para o maior\n",
        "notas = [2 , 10 , 9 , 4 ]\n",
        "nomes = ['Ademar','Maristênio', 'Asdrudal', 'Leo']\n",
        "notas.sort()  \n",
        "nomes.sort()\n",
        "#2 - crie uma lista de4 nomes de frutas e ordene-a em\n",
        "\n",
        "nomes"
      ],
      "metadata": {
        "colab": {
          "base_uri": "https://localhost:8080/"
        },
        "id": "S87ipRAk_d7I",
        "outputId": "5db6126a-3241-4c26-8bda-d5e61faf6a33"
      },
      "execution_count": 18,
      "outputs": [
        {
          "output_type": "execute_result",
          "data": {
            "text/plain": [
              "['Ademar', 'Asdrudal', 'Leo', 'Maristênio']"
            ]
          },
          "metadata": {},
          "execution_count": 18
        }
      ]
    },
    {
      "cell_type": "code",
      "source": [
        "#Função map() serve para aplicar uma função a cada elemento de uma lista, dispensando o uso de um loop (for ou while)\n",
        "\n",
        "#map(funcao, sequencia)\n",
        "#Função filter() serve para filtrar elementos de uma sequência\n",
        "\n",
        "#Exemplo funçao map\n",
        "numeros = [2, 4, 6]\n",
        "nova_lista = list(map(lambda x : x*2, numeros))\n",
        "nova_lista"
      ],
      "metadata": {
        "colab": {
          "base_uri": "https://localhost:8080/"
        },
        "id": "wviS0DCmCHtE",
        "outputId": "f2d402dc-04f8-4e38-d63e-4d09bcac3ca0"
      },
      "execution_count": 19,
      "outputs": [
        {
          "output_type": "execute_result",
          "data": {
            "text/plain": [
              "[4, 8, 12]"
            ]
          },
          "metadata": {},
          "execution_count": 19
        }
      ]
    },
    {
      "cell_type": "code",
      "source": [
        "numeros = [ 9, 6, 7, 14]\n",
        "nova_lista = list(map(lambda x : x/3, numeros))\n",
        "nova_lista "
      ],
      "metadata": {
        "colab": {
          "base_uri": "https://localhost:8080/"
        },
        "id": "tv1tT-fUCt8r",
        "outputId": "570ce4a9-6f2b-4c9e-a676-1b5b36ebb546"
      },
      "execution_count": 24,
      "outputs": [
        {
          "output_type": "execute_result",
          "data": {
            "text/plain": [
              "[3.0, 2.0, 2.3333333333333335, 4.666666666666667]"
            ]
          },
          "metadata": {},
          "execution_count": 24
        }
      ]
    },
    {
      "cell_type": "code",
      "source": [
        "#pega cada numero e somar 2\n",
        "numeros =[20, 30, 42 , 52]\n",
        "soma2 = list(map(lambda x : x+2, numeros))\n",
        "soma2\n",
        "\n"
      ],
      "metadata": {
        "colab": {
          "base_uri": "https://localhost:8080/"
        },
        "id": "CtEBpIMDEBW6",
        "outputId": "2899d67f-c624-4084-9c21-2b52226dea26"
      },
      "execution_count": 29,
      "outputs": [
        {
          "output_type": "execute_result",
          "data": {
            "text/plain": [
              "[22, 32, 44, 54]"
            ]
          },
          "metadata": {},
          "execution_count": 29
        }
      ]
    },
    {
      "cell_type": "code",
      "source": [
        "#Exemplo função filter\n",
        "\n",
        "nomes = ['José', 'joão', 'Sebastião', 'Angelica', ' leonardo', 'asevedo']\n",
        "\n",
        "new_list = list(filter(lambda x : len(x)>5 , nomes))\n",
        "new_list"
      ],
      "metadata": {
        "colab": {
          "base_uri": "https://localhost:8080/"
        },
        "id": "WFCByRTAFCUy",
        "outputId": "412fa5c2-edfa-4ce8-9945-e339b041edd3"
      },
      "execution_count": 31,
      "outputs": [
        {
          "output_type": "execute_result",
          "data": {
            "text/plain": [
              "['Sebastião', 'Angelica', ' leonardo', 'asevedo']"
            ]
          },
          "metadata": {},
          "execution_count": 31
        }
      ]
    },
    {
      "cell_type": "code",
      "source": [
        "# crie uma lista de notas que imprime as notas maiores que 6\n",
        "\n",
        "numeros = [ 8, 1 , 2 , 10 , 9, 6]\n",
        "\n",
        "new_list = list(filter(lambda x :(x)>6, numeros))\n",
        "new_list"
      ],
      "metadata": {
        "colab": {
          "base_uri": "https://localhost:8080/"
        },
        "id": "KJEHJyq9GAJ4",
        "outputId": "da46f7af-bdd0-4292-96da-b2fbe49b1a9f"
      },
      "execution_count": 38,
      "outputs": [
        {
          "output_type": "execute_result",
          "data": {
            "text/plain": [
              "[8, 10, 9]"
            ]
          },
          "metadata": {},
          "execution_count": 38
        }
      ]
    },
    {
      "cell_type": "code",
      "source": [
        "#1 Dada uma lista de números, retorne uma lista contendo o quadrado de cada número.\n",
        "\n",
        "numeros = [ 8, 12 , 16 , 20]\n",
        "\n",
        "nova_lista =list(map(lambda x: x**2, numeros))\n",
        "nova_lista"
      ],
      "metadata": {
        "colab": {
          "base_uri": "https://localhost:8080/"
        },
        "id": "GAFNEv3qInXq",
        "outputId": "d069731f-8825-47ae-c4ff-203baaf3750a"
      },
      "execution_count": 39,
      "outputs": [
        {
          "output_type": "execute_result",
          "data": {
            "text/plain": [
              "[64, 144, 256, 400]"
            ]
          },
          "metadata": {},
          "execution_count": 39
        }
      ]
    },
    {
      "cell_type": "code",
      "source": [
        "#2 Dada uma lista de nomes, retorne uma lista contendo o tamanho de cada nome.\n",
        "\n",
        "nomes = ['kauan', 'joao' ,'iarley',' silva']\n",
        "\n",
        "nova_lista =list(map(lambda x : len(x), nomes))\n",
        "nova_lista"
      ],
      "metadata": {
        "colab": {
          "base_uri": "https://localhost:8080/"
        },
        "id": "dk39QHnwJrIy",
        "outputId": "2b6104b8-4956-4737-ead5-39be956bdfa9"
      },
      "execution_count": 42,
      "outputs": [
        {
          "output_type": "execute_result",
          "data": {
            "text/plain": [
              "[5, 4, 6, 6]"
            ]
          },
          "metadata": {},
          "execution_count": 42
        }
      ]
    },
    {
      "cell_type": "code",
      "source": [
        "#3Dada uma lista de números, retorne uma lista contendo apenas os números pares.\n",
        "\n",
        "numeros = [ 10 , 3 , 6 ,2 , 20 , 7]\n",
        "\n",
        "nova_lista = list(filter(lambda x: x%2 == 0, numeros))\n",
        "nova_lista"
      ],
      "metadata": {
        "colab": {
          "base_uri": "https://localhost:8080/"
        },
        "id": "JVq4ETvNKwX4",
        "outputId": "c72a8c54-7b56-449a-9616-efb36b370361"
      },
      "execution_count": 43,
      "outputs": [
        {
          "output_type": "execute_result",
          "data": {
            "text/plain": [
              "[10, 6, 2, 20]"
            ]
          },
          "metadata": {},
          "execution_count": 43
        }
      ]
    },
    {
      "cell_type": "code",
      "source": [
        "#4 Dada uma lista de nomes, retorne uma lista contendo apenas os nomes que começam com a letra \"A\".\n",
        "\n",
        "nomes = [ 'Joaquim', 'carlos', 'pedro', 'ken', 'Adelbardo']\n",
        "\n",
        "nova_lista = list(filter(lambda x : (x[0] == \"A\") , nomes))\n",
        "nova_lista"
      ],
      "metadata": {
        "colab": {
          "base_uri": "https://localhost:8080/"
        },
        "id": "OPAE2EktLgln",
        "outputId": "0af1ea74-0fd5-400b-dd95-c07aeb05edcd"
      },
      "execution_count": 51,
      "outputs": [
        {
          "output_type": "execute_result",
          "data": {
            "text/plain": [
              "['Adelbardo']"
            ]
          },
          "metadata": {},
          "execution_count": 51
        }
      ]
    },
    {
      "cell_type": "code",
      "source": [
        "#5 Recebe uma lista com notas de alunos, retorna apenas os aprovados (nota maior ou igual a 7)\n",
        "\n",
        "notas = [ 7, 10 , 6 ,5 , 9]\n",
        "\n",
        "nova_lista = list(filter(lambda x : (x)>=7, notas ))\n",
        "nova_lista"
      ],
      "metadata": {
        "colab": {
          "base_uri": "https://localhost:8080/"
        },
        "id": "dRvIiXJPNGN8",
        "outputId": "a17e4b38-f42c-4641-d505-42bc2f2aa018"
      },
      "execution_count": 52,
      "outputs": [
        {
          "output_type": "execute_result",
          "data": {
            "text/plain": [
              "[7, 10, 9]"
            ]
          },
          "metadata": {},
          "execution_count": 52
        }
      ]
    },
    {
      "cell_type": "code",
      "source": [
        "#6 Recebe uma lista de nomes, retorna apenas os que começam com vogal\n",
        "\n",
        "nomes = ['Joaquim', 'Carlos', 'Pedro', 'Ken', 'Adelbardo' , \"Erika\"]\n",
        "\n",
        "nova_lista = list(filter(lambda x : x[0] in \"AEIOU\" , nomes))\n",
        "nova_lista"
      ],
      "metadata": {
        "colab": {
          "base_uri": "https://localhost:8080/"
        },
        "id": "mtnt1pkBNt4-",
        "outputId": "bae6fb84-6aa4-46a6-8b2c-12001d6bb853"
      },
      "execution_count": 75,
      "outputs": [
        {
          "output_type": "execute_result",
          "data": {
            "text/plain": [
              "['Adelbardo', 'Erika']"
            ]
          },
          "metadata": {},
          "execution_count": 75
        }
      ]
    }
  ]
}