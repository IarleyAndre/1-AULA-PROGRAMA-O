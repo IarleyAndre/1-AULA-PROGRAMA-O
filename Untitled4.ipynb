{
  "nbformat": 4,
  "nbformat_minor": 0,
  "metadata": {
    "colab": {
      "provenance": [],
      "authorship_tag": "ABX9TyPju0XIMu0p55xi5f3Tlrla",
      "include_colab_link": true
    },
    "kernelspec": {
      "name": "python3",
      "display_name": "Python 3"
    },
    "language_info": {
      "name": "python"
    }
  },
  "cells": [
    {
      "cell_type": "markdown",
      "metadata": {
        "id": "view-in-github",
        "colab_type": "text"
      },
      "source": [
        "<a href=\"https://colab.research.google.com/github/IarleyAndre/1-AULA-PROGRAMA-O/blob/main/Untitled4.ipynb\" target=\"_parent\"><img src=\"https://colab.research.google.com/assets/colab-badge.svg\" alt=\"Open In Colab\"/></a>"
      ]
    },
    {
      "cell_type": "code",
      "execution_count": null,
      "metadata": {
        "colab": {
          "base_uri": "https://localhost:8080/"
        },
        "id": "TehQN7ZYtMqS",
        "outputId": "094401b6-db72-4b89-b490-68b218aff90d"
      },
      "outputs": [
        {
          "output_type": "execute_result",
          "data": {
            "text/plain": [
              "[0, 1, 2, 3, 4, 5, 6, 7, 8]"
            ]
          },
          "metadata": {},
          "execution_count": 16
        }
      ],
      "source": [
        "#Para usa biblioteca random,precisa importa la\n",
        "import random\n",
        "#criar uma lista com tamanho aleatorio entre (0 a 50)\n",
        "numeros =[]\n",
        "for numero in range(random.randrange(0,50)):\n",
        "   numeros.append(numero)\n",
        "\n",
        "numeros"
      ]
    },
    {
      "cell_type": "code",
      "source": [
        "# O numero e par ou impar\n",
        "a = int(input(\"Digite um numero! \"))\n",
        "if a%2 ==0:\n",
        "  print('e par')\n",
        "else:\n",
        "  print(\"e impar\")\n"
      ],
      "metadata": {
        "id": "PkXtE3JEy2a-",
        "colab": {
          "base_uri": "https://localhost:8080/"
        },
        "outputId": "5bd9eb98-1e8d-4ccd-d588-f865c808eade"
      },
      "execution_count": 29,
      "outputs": [
        {
          "output_type": "stream",
          "name": "stdout",
          "text": [
            "Digite um numero! 555\n",
            "e impar\n"
          ]
        }
      ]
    },
    {
      "cell_type": "code",
      "source": [
        "#printar so os numeros entre 0 a 50\n",
        "\n",
        "\n",
        "press =[]\n",
        "for  par in range(50):\n",
        " if(par%2 == 0):\n",
        "  press.append(par)\n",
        "\n",
        "press"
      ],
      "metadata": {
        "id": "RE7ibFDw07o3",
        "colab": {
          "base_uri": "https://localhost:8080/"
        },
        "outputId": "9be6c418-bfd6-4572-b877-b71f24ad7625"
      },
      "execution_count": 98,
      "outputs": [
        {
          "output_type": "execute_result",
          "data": {
            "text/plain": [
              "[0,\n",
              " 2,\n",
              " 4,\n",
              " 6,\n",
              " 8,\n",
              " 10,\n",
              " 12,\n",
              " 14,\n",
              " 16,\n",
              " 18,\n",
              " 20,\n",
              " 22,\n",
              " 24,\n",
              " 26,\n",
              " 28,\n",
              " 30,\n",
              " 32,\n",
              " 34,\n",
              " 36,\n",
              " 38,\n",
              " 40,\n",
              " 42,\n",
              " 44,\n",
              " 46,\n",
              " 48]"
            ]
          },
          "metadata": {},
          "execution_count": 98
        }
      ]
    },
    {
      "cell_type": "code",
      "source": [
        "#Retorne a soma dos numeros de 1 a 100\n",
        "soma = 1\n",
        "\n",
        "for num in range(1,101):\n",
        "  soma = soma + num\n",
        "\n",
        "soma"
      ],
      "metadata": {
        "colab": {
          "base_uri": "https://localhost:8080/"
        },
        "id": "zFRS8J7s3lZZ",
        "outputId": "f9afdd15-f0dd-4127-d96f-f76900c88e8b"
      },
      "execution_count": 53,
      "outputs": [
        {
          "output_type": "execute_result",
          "data": {
            "text/plain": [
              "5051"
            ]
          },
          "metadata": {},
          "execution_count": 53
        }
      ]
    },
    {
      "cell_type": "code",
      "source": [
        "#Criar um programa que lista os numeros de 1 a 10\n",
        "\n",
        "cont = 0\n",
        "\n",
        "while (cont < 5):\n",
        "  print(cont +1)\n",
        "  cont+=1"
      ],
      "metadata": {
        "id": "kza4DFx62Ucw",
        "colab": {
          "base_uri": "https://localhost:8080/"
        },
        "outputId": "7a2055df-6d66-4d2f-db37-8f85a9ab8f18"
      },
      "execution_count": 63,
      "outputs": [
        {
          "output_type": "stream",
          "name": "stdout",
          "text": [
            "1\n",
            "2\n",
            "3\n",
            "4\n",
            "5\n"
          ]
        }
      ]
    },
    {
      "cell_type": "code",
      "source": [
        "# Pede ao usuario  para inserir um numero inteiro maior que 1 \n",
        "# O programa tem que imprimir todos os numeros ate o numero digitado\n",
        "cont = 0\n",
        "numero = int(input('digite um numero maior que 1 :'))\n",
        "\n",
        "\n",
        "while(cont <= numero):\n",
        "  print(cont)\n",
        "  cont+=1\n"
      ],
      "metadata": {
        "colab": {
          "base_uri": "https://localhost:8080/"
        },
        "id": "vlfvcnlq-I0x",
        "outputId": "9e78c50b-3dd1-4fce-809e-87ea53a25df5"
      },
      "execution_count": 85,
      "outputs": [
        {
          "output_type": "stream",
          "name": "stdout",
          "text": [
            "digite um numero maior que 1 :9\n",
            "0\n",
            "1\n",
            "2\n",
            "3\n",
            "4\n",
            "5\n",
            "6\n",
            "7\n",
            "8\n",
            "9\n"
          ]
        }
      ]
    },
    {
      "cell_type": "code",
      "source": [
        "#\n",
        "#\n",
        "#\n",
        "\n",
        "lista=[]\n",
        " \n",
        "item = (input('digite o item :'))\n",
        "\n",
        "while (item != \"0\"):\n",
        "  lista.append(item)\n",
        "  item = input(\"Digite o item :\")\n",
        "\n",
        "lista"
      ],
      "metadata": {
        "colab": {
          "base_uri": "https://localhost:8080/"
        },
        "id": "_Owl0j3nCPGf",
        "outputId": "4ee85dd7-f831-4ab9-d289-bef7813e026c"
      },
      "execution_count": 93,
      "outputs": [
        {
          "name": "stdout",
          "output_type": "stream",
          "text": [
            "digite o item :k\n",
            "Digite o item :j\n",
            "Digite o item :0\n"
          ]
        },
        {
          "output_type": "execute_result",
          "data": {
            "text/plain": [
              "['k', 'j']"
            ]
          },
          "metadata": {},
          "execution_count": 93
        }
      ]
    }
  ]
}