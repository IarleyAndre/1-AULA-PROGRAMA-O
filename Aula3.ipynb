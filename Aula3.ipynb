{
  "nbformat": 4,
  "nbformat_minor": 0,
  "metadata": {
    "colab": {
      "provenance": [],
      "authorship_tag": "ABX9TyMmgkRbk6Qj9ej88frZsIm3",
      "include_colab_link": true
    },
    "kernelspec": {
      "name": "python3",
      "display_name": "Python 3"
    },
    "language_info": {
      "name": "python"
    }
  },
  "cells": [
    {
      "cell_type": "markdown",
      "metadata": {
        "id": "view-in-github",
        "colab_type": "text"
      },
      "source": [
        "<a href=\"https://colab.research.google.com/github/IarleyAndre/1-AULA-PROGRAMA-O/blob/main/Aula3.ipynb\" target=\"_parent\"><img src=\"https://colab.research.google.com/assets/colab-badge.svg\" alt=\"Open In Colab\"/></a>"
      ]
    },
    {
      "cell_type": "code",
      "execution_count": null,
      "metadata": {
        "id": "xtA3l09gpczN"
      },
      "outputs": [],
      "source": [
        "# se a idade for maior que 16, exiba : pode tirar habilitação\n",
        "\n",
        "idade = int(input(\"digite a idade\"))"
      ]
    },
    {
      "cell_type": "code",
      "source": [
        "\n",
        "\n",
        "\n",
        "sexo = input(\"Informe se voce e do sexo \")\n",
        "idade = int (input(\"digite a idade\"))\n",
        "  \n",
        "if(sexo == \"F\" and idade >=55) or (sexo == \"M\" and idade >=60):\n",
        "  print(\"pode se aposentar\")\n",
        "\n",
        "else:\n",
        "  print('não pode se aposentar')\n",
        "\n"
      ],
      "metadata": {
        "colab": {
          "base_uri": "https://localhost:8080/"
        },
        "id": "DiiH0diZrOpG",
        "outputId": "e5a85cab-54c6-497a-bd6d-f40dc13119cb"
      },
      "execution_count": 11,
      "outputs": [
        {
          "output_type": "stream",
          "name": "stdout",
          "text": [
            "Informe se voce e do sexo F\n",
            "digite a idade56\n",
            "pode se aposentar\n"
          ]
        }
      ]
    },
    {
      "cell_type": "code",
      "source": [
        "na = int(input('digite o numero que representa A:'))\n",
        "nb = int(input('digite o numero que representa B:'))\n",
        "nc = int(input('digite o numero que representa C:'))\n",
        "\n",
        "nab = (na + nb)\n",
        "\n",
        "if(nab > nc):\n",
        " print('a soma de A e B e maior que C')\n",
        "elif(nab == nc):\n",
        "  print(' a soma de A e B e igual a C')\n",
        "else:\n",
        " print('C e maior que a soma de A e B')"
      ],
      "metadata": {
        "colab": {
          "base_uri": "https://localhost:8080/"
        },
        "id": "azFk3wz_xOTF",
        "outputId": "24b53fc2-1a0f-481b-c2d3-064cf1921c9f"
      },
      "execution_count": 12,
      "outputs": [
        {
          "output_type": "stream",
          "name": "stdout",
          "text": [
            "digite o numero que representa A:6\n",
            "digite o numero que representa B:7\n",
            "digite o numero que representa C:8\n",
            "a soma de A e B e maior que C\n"
          ]
        }
      ]
    },
    {
      "cell_type": "code",
      "source": [
        "#Desenvolva um programa que recebe um número e informa na tela se é par ou impar.\n",
        "\n",
        "num = int(input('digite um numero:'))\n",
        "\n",
        "if(num%2 == 0):\n",
        " print('o numero é par')\n",
        "else:\n",
        " print('o numero é impar')"
      ],
      "metadata": {
        "colab": {
          "base_uri": "https://localhost:8080/"
        },
        "id": "fNRK6EUUx1FZ",
        "outputId": "150cfc03-3c8e-4f13-dc5a-7bf66ffe6efe"
      },
      "execution_count": 13,
      "outputs": [
        {
          "output_type": "stream",
          "name": "stdout",
          "text": [
            "digite um numero:10\n",
            "o numero é par\n"
          ]
        }
      ]
    },
    {
      "cell_type": "code",
      "source": [
        "#Escreva um algoritmo que recebe um número e diz se ele é múltiplo de 3.\n",
        "\n",
        "num = int(input('digite o numero:'))\n",
        "\n",
        "if (num %3 == 0):\n",
        " print('O numero é mutiplo de três')\n",
        "else:\n",
        "  print('O numero não é mutiplo de três')"
      ],
      "metadata": {
        "colab": {
          "base_uri": "https://localhost:8080/"
        },
        "id": "IrfNyn_NyJvx",
        "outputId": "1c38dda2-ccfb-40f6-e55b-7ff8a2084d38"
      },
      "execution_count": 15,
      "outputs": [
        {
          "output_type": "stream",
          "name": "stdout",
          "text": [
            "digite o numero:532\n",
            "O numero não é mutiplo de três\n"
          ]
        }
      ]
    },
    {
      "cell_type": "code",
      "source": [
        "#Escreva um algoritmo que solicita o nome da pessoa, e o ano de nascimento. Então, calcula a idade e, se for menor que 18 anos, solicita o nome da Mãe.\n",
        "\n",
        "n = input('informe seu nome:')\n",
        "\n",
        "d = int(input('informe sua idade:'))\n",
        "\n",
        "if( d < 18):\n",
        "  input('informe o nome da sua mãe:')\n",
        "  print('|||Pode passar|||')\n",
        "else:\n",
        "  print('|||Pode passar|||')"
      ],
      "metadata": {
        "colab": {
          "base_uri": "https://localhost:8080/"
        },
        "id": "4PPlsspVyl8h",
        "outputId": "e3fdce18-276a-456f-b963-727fb8b67f58"
      },
      "execution_count": 16,
      "outputs": [
        {
          "output_type": "stream",
          "name": "stdout",
          "text": [
            "informe seu nome:joser\n",
            "informe sua idade:12\n",
            "informe o nome da sua mãe:josiane\n",
            "|||Pode passar|||\n"
          ]
        }
      ]
    },
    {
      "cell_type": "code",
      "source": [
        "#Faça um algoritmo que solicita um número, e retorna: O dobro caso o número seja positivo, o triplo caso o número seja negativo.\n",
        "\n",
        "num = float(input('informe o numero:'))\n",
        "\n",
        "if( num > 0):\n",
        "  calculo = num * 2\n",
        "  print(calculo)\n",
        "else:\n",
        " n = num * 3\n",
        " print(n)\n",
        " "
      ],
      "metadata": {
        "id": "F9BSFo6MzN7Z"
      },
      "execution_count": null,
      "outputs": []
    },
    {
      "cell_type": "code",
      "source": [
        "#Escreva um algoritmo que recebe 2 valores inteiros e escreve na tela qual é o maior.\n",
        "\n",
        "n1 = int(input('informe um numero:'))\n",
        "n2 = int(input('informe outro numero:'))\n",
        "\n",
        "if( n1 > n2):\n",
        " print('O numero',n1,'é maior que',n2)\n",
        "else:\n",
        " print('O numero', n2 ,'é maior que',n1,)\n",
        " "
      ],
      "metadata": {
        "colab": {
          "base_uri": "https://localhost:8080/"
        },
        "id": "1AQJ8OLm0DsR",
        "outputId": "c248c908-5ace-47ff-ebda-00b966de40f2"
      },
      "execution_count": 18,
      "outputs": [
        {
          "output_type": "stream",
          "name": "stdout",
          "text": [
            "informe um numero:12\n",
            "informe outro numero:14\n",
            "O numero 14 é maior que 12\n"
          ]
        }
      ]
    },
    {
      "cell_type": "code",
      "source": [
        "#Faça um algoritmo que recebe 3 números inteiros e mostra-os em ordem decrescente.\n",
        "\n",
        "n1 = int(input('informe um numero:'))\n",
        "n2 = int(input('informe um numero:'))\n",
        "n3 = int(input('informe um numero:'))\n",
        "\n",
        "pn = n1\n",
        "if(n2 > pn):\n",
        "  pn = n2\n",
        "\n",
        "if(n3 > pn):\n",
        "  pn = n3\n",
        "\n",
        "tn = n1\n",
        "if(n2 < tn):\n",
        "  tn = n2\n",
        "\n",
        "if(n3 < tn):\n",
        "  tn = n3\n",
        "\n",
        "sn = (n1 + n2 + n3) - (pn + tn)\n",
        "\n",
        "print('A ordem dos numeros decrescente são: ' ,pn,',',sn,\",\",tn,)\n",
        "\n"
      ],
      "metadata": {
        "colab": {
          "base_uri": "https://localhost:8080/"
        },
        "id": "kt7PHTNn05mL",
        "outputId": "1e87f8bd-7c8e-4c16-f730-a1645646f02e"
      },
      "execution_count": 20,
      "outputs": [
        {
          "output_type": "stream",
          "name": "stdout",
          "text": [
            "informe um numero:1\n",
            "informe um numero:2\n",
            "informe um numero:3\n",
            "A ordem dos numeros decrescente são:  3 , 2 , 1\n"
          ]
        }
      ]
    }
  ]
}