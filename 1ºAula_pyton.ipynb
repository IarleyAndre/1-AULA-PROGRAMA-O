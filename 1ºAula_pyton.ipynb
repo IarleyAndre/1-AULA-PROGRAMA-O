{
  "nbformat": 4,
  "nbformat_minor": 0,
  "metadata": {
    "colab": {
      "provenance": [],
      "authorship_tag": "ABX9TyMx7jE+IxcCzFsi/Wq+XYVI",
      "include_colab_link": true
    },
    "kernelspec": {
      "name": "python3",
      "display_name": "Python 3"
    },
    "language_info": {
      "name": "python"
    }
  },
  "cells": [
    {
      "cell_type": "markdown",
      "metadata": {
        "id": "view-in-github",
        "colab_type": "text"
      },
      "source": [
        "<a href=\"https://colab.research.google.com/github/IarleyAndre/1-AULA-PROGRAMA-O/blob/main/1%C2%BAAula_pyton.ipynb\" target=\"_parent\"><img src=\"https://colab.research.google.com/assets/colab-badge.svg\" alt=\"Open In Colab\"/></a>"
      ]
    },
    {
      "cell_type": "code",
      "source": [
        "print(\"eu vou programar\")"
      ],
      "metadata": {
        "colab": {
          "base_uri": "https://localhost:8080/"
        },
        "id": "GQnB2Pq6wADN",
        "outputId": "58eaca65-5a73-4b5a-8c7e-bdb05a2f3381"
      },
      "execution_count": 2,
      "outputs": [
        {
          "output_type": "stream",
          "name": "stdout",
          "text": [
            "eu vou programar\n"
          ]
        }
      ]
    },
    {
      "cell_type": "code",
      "source": [
        "#variaveis\n",
        "nome = 'minecraft'\n",
        "print(nome)"
      ],
      "metadata": {
        "colab": {
          "base_uri": "https://localhost:8080/"
        },
        "id": "mv2cSrg0wQ31",
        "outputId": "c5e1d8cd-8e6d-4b7c-fa52-d43cf734bf39"
      },
      "execution_count": 6,
      "outputs": [
        {
          "output_type": "stream",
          "name": "stdout",
          "text": [
            "minecraft\n"
          ]
        }
      ]
    },
    {
      "cell_type": "code",
      "source": [
        "#Operações com variaveis\n",
        "a= 20\n",
        "b= 35\n",
        "soma = a +b\n",
        "subtração = a -  b\n",
        "divisao = a / b \n",
        "multipli = a * b\n",
        "\n",
        "\n"
      ],
      "metadata": {
        "id": "ZoE3-XSjxFC5"
      },
      "execution_count": 7,
      "outputs": []
    },
    {
      "cell_type": "code",
      "source": [
        "print(soma)\n",
        "print (subtração)\n",
        "print(divisao)\n",
        "print(multipli)\n",
        "\n"
      ],
      "metadata": {
        "colab": {
          "base_uri": "https://localhost:8080/"
        },
        "id": "HXEFrtqpyPXt",
        "outputId": "5db860f3-775e-46a1-f887-42ce6899a3bc"
      },
      "execution_count": 9,
      "outputs": [
        {
          "output_type": "stream",
          "name": "stdout",
          "text": [
            "55\n",
            "-15\n",
            "0.5714285714285714\n",
            "700\n"
          ]
        }
      ]
    },
    {
      "cell_type": "code",
      "source": [],
      "metadata": {
        "id": "wlhiX2MkzCHo"
      },
      "execution_count": null,
      "outputs": []
    },
    {
      "cell_type": "markdown",
      "source": [
        "1. pega o numero de uma variavel, e devolve o dobro\n",
        "2. le 3 notas e devolve a media aritmetica\n",
        "3. pede o ano de nascimento da pessoa e calcula a idade atual dela.\n"
      ],
      "metadata": {
        "id": "_igkyMyFzSzE"
      }
    },
    {
      "cell_type": "code",
      "source": [
        " # questao 1\n",
        " num = 60\n",
        " print (num *2)\n",
        "\n"
      ],
      "metadata": {
        "colab": {
          "base_uri": "https://localhost:8080/"
        },
        "id": "3WR6hJBMzro0",
        "outputId": "19cb1d6f-29ae-4591-b74d-5a22b04937b3"
      },
      "execution_count": 13,
      "outputs": [
        {
          "output_type": "stream",
          "name": "stdout",
          "text": [
            "120\n"
          ]
        }
      ]
    },
    {
      "cell_type": "code",
      "source": [
        "# questao 2 \n",
        "nota1 = 10\n",
        "nota2 = 7\n",
        "nota3 = 8\n",
        "media = (nota1+nota2+nota3)/3"
      ],
      "metadata": {
        "id": "XRutx12k0vsJ"
      },
      "execution_count": 19,
      "outputs": []
    },
    {
      "cell_type": "code",
      "source": [
        "# questao 3 \n",
        "\n",
        "datanascimento=2005\n",
        "print(2023 - 2005)"
      ],
      "metadata": {
        "colab": {
          "base_uri": "https://localhost:8080/"
        },
        "id": "QVco0p-815k6",
        "outputId": "b2cb43e2-0024-44cc-8849-7890e3f5f8b4"
      },
      "execution_count": 17,
      "outputs": [
        {
          "output_type": "stream",
          "name": "stdout",
          "text": [
            "18\n"
          ]
        }
      ]
    },
    {
      "cell_type": "code",
      "source": [
        "nome = input(\"digite seu nome\")\n",
        "print('ola'+nome)"
      ],
      "metadata": {
        "colab": {
          "base_uri": "https://localhost:8080/",
          "height": 200
        },
        "id": "vHhYth4m9jC9",
        "outputId": "bd1ad303-620b-4355-ad52-ad7e3f5f6adb"
      },
      "execution_count": 57,
      "outputs": [
        {
          "name": "stdout",
          "output_type": "stream",
          "text": [
            "digite seu nomeiarley\n"
          ]
        },
        {
          "output_type": "error",
          "ename": "TypeError",
          "evalue": "ignored",
          "traceback": [
            "\u001b[0;31m---------------------------------------------------------------------------\u001b[0m",
            "\u001b[0;31mTypeError\u001b[0m                                 Traceback (most recent call last)",
            "\u001b[0;32m<ipython-input-57-97468b75fe6f>\u001b[0m in \u001b[0;36m<module>\u001b[0;34m\u001b[0m\n\u001b[1;32m      1\u001b[0m \u001b[0mnome\u001b[0m \u001b[0;34m=\u001b[0m \u001b[0minput\u001b[0m\u001b[0;34m(\u001b[0m\u001b[0;34m\"digite seu nome\"\u001b[0m\u001b[0;34m)\u001b[0m\u001b[0;34m\u001b[0m\u001b[0;34m\u001b[0m\u001b[0m\n\u001b[0;32m----> 2\u001b[0;31m \u001b[0mprint\u001b[0m\u001b[0;34m(\u001b[0m\u001b[0;34m'ola'\u001b[0m\u001b[0;34m+\u001b[0m\u001b[0mnome\u001b[0m\u001b[0;34m)\u001b[0m\u001b[0;34m\u001b[0m\u001b[0;34m\u001b[0m\u001b[0m\n\u001b[0m",
            "\u001b[0;31mTypeError\u001b[0m: 'int' object is not callable"
          ]
        }
      ]
    },
    {
      "cell_type": "code",
      "source": [
        "#multiplica por 3\n",
        "\n",
        "multi= int(input(\"multiplicador\"))\n",
        "print= (multi*3)\n"
      ],
      "metadata": {
        "colab": {
          "base_uri": "https://localhost:8080/"
        },
        "id": "BJbC6ZAG4gUe",
        "outputId": "4861dfe4-2b4e-4655-b370-3bf5c62e1ca5"
      },
      "execution_count": 47,
      "outputs": [
        {
          "name": "stdout",
          "output_type": "stream",
          "text": [
            "multiplicador23\n"
          ]
        }
      ]
    }
  ]
}