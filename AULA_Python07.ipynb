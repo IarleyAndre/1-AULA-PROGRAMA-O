{
  "nbformat": 4,
  "nbformat_minor": 0,
  "metadata": {
    "colab": {
      "provenance": [],
      "authorship_tag": "ABX9TyO1kLM4xA5KsuVL1tJb8Bmj",
      "include_colab_link": true
    },
    "kernelspec": {
      "name": "python3",
      "display_name": "Python 3"
    },
    "language_info": {
      "name": "python"
    }
  },
  "cells": [
    {
      "cell_type": "markdown",
      "metadata": {
        "id": "view-in-github",
        "colab_type": "text"
      },
      "source": [
        "<a href=\"https://colab.research.google.com/github/IarleyAndre/1-AULA-PROGRAMA-O/blob/main/AULA_Python07.ipynb\" target=\"_parent\"><img src=\"https://colab.research.google.com/assets/colab-badge.svg\" alt=\"Open In Colab\"/></a>"
      ]
    },
    {
      "cell_type": "code",
      "execution_count": null,
      "metadata": {
        "id": "UO8j7OGSB1s3"
      },
      "outputs": [],
      "source": [
        "#criando dicionarios\n",
        "#dicionarios sao definidos utilizando chaves{}\n",
        "#e os pares chave-valor sao separados por dois pontos :\n",
        "\n",
        "#contatos\n",
        "contatos = {\n",
        "    'Ostervaldo' : 'Ostervaldo@gmail.com'\n",
        "     \n",
        "}"
      ]
    },
    {
      "cell_type": "code",
      "source": [
        "#criar \n",
        "\n",
        "lutadores = [\n",
        "  {\n",
        "      \"nome\" : 'israel azaia',\n",
        "      \"categoria\" : \"Meio medio\",\n",
        "      \"envergadura\" : 2\n",
        "  },\n",
        "  {\n",
        "      \"nome\" : 'luciano pinheiro',\n",
        "      \"categoria\" : \"palha\",\n",
        "      \"envergadura\" : 1.6\n",
        "  }\n",
        "\n",
        "]\n"
      ],
      "metadata": {
        "id": "JwG9VS7oGswR"
      },
      "execution_count": null,
      "outputs": []
    },
    {
      "cell_type": "code",
      "source": [
        "lutadores"
      ],
      "metadata": {
        "colab": {
          "base_uri": "https://localhost:8080/"
        },
        "id": "TKyVQ-NPHyDO",
        "outputId": "7c5d430e-1e6d-4253-ebee-2beaf974ed63"
      },
      "execution_count": null,
      "outputs": [
        {
          "output_type": "execute_result",
          "data": {
            "text/plain": [
              "[{'nome': 'israel azaia', 'categoria': 'Meio medio', 'envergadura': 2},\n",
              " {'nome': 'luciano pinheiro', 'categoria': 'palha', 'envergadura': 1.6}]"
            ]
          },
          "metadata": {},
          "execution_count": 4
        }
      ]
    },
    {
      "cell_type": "code",
      "source": [
        "#criar\n",
        "contatos['Evilásio']= 'evi@exemplo.com'\n",
        "\n",
        "contatos"
      ],
      "metadata": {
        "colab": {
          "base_uri": "https://localhost:8080/"
        },
        "id": "us_VrXzAIJ5a",
        "outputId": "bd072409-b64a-4575-edc5-e079d3cab622"
      },
      "execution_count": null,
      "outputs": [
        {
          "output_type": "execute_result",
          "data": {
            "text/plain": [
              "{'Ostervaldo': 'Ostervaldo@gmail.com', 'Evilásio': 'evi@exemplo.com'}"
            ]
          },
          "metadata": {},
          "execution_count": 5
        }
      ]
    },
    {
      "cell_type": "code",
      "source": [
        "contcell = {'zé': 'ze@email.com',\n",
        "            'corintiano' : 'corin@gmail.com',\n",
        "            'ellenbar' : 'ellenbar@gmail.com'}\n",
        "\n",
        "contatos.update(contcell)\n",
        "\n",
        "contatos\n"
      ],
      "metadata": {
        "colab": {
          "base_uri": "https://localhost:8080/"
        },
        "id": "__J7N8n-I6uL",
        "outputId": "acaca75c-174e-40ee-97fa-feab4a4560ef"
      },
      "execution_count": null,
      "outputs": [
        {
          "output_type": "execute_result",
          "data": {
            "text/plain": [
              "{'Ostervaldo': 'Ostervaldo@gmail.com',\n",
              " 'Evilásio': 'evi@exemplo.com',\n",
              " 'zé': 'ze@email.com',\n",
              " 'corintiano': 'corin@gmail.com',\n",
              " 'ellenbar': 'ellenbar@gmail.com'}"
            ]
          },
          "metadata": {},
          "execution_count": 9
        }
      ]
    },
    {
      "cell_type": "code",
      "source": [
        "#remoção \n",
        "\n",
        "del contatos ['corintiano']\n",
        "\n",
        "contatos"
      ],
      "metadata": {
        "colab": {
          "base_uri": "https://localhost:8080/"
        },
        "id": "Ij7UvgriLLfq",
        "outputId": "b68d884d-290e-4254-d156-e45f3744b567"
      },
      "execution_count": null,
      "outputs": [
        {
          "output_type": "execute_result",
          "data": {
            "text/plain": [
              "{'Ostervaldo': 'Ostervaldo@gmail.com',\n",
              " 'Evilásio': 'evi@exemplo.com',\n",
              " 'zé': 'ze@email.com',\n",
              " 'ellenbar': 'ellenbar@gmail.com'}"
            ]
          },
          "metadata": {},
          "execution_count": 11
        }
      ]
    },
    {
      "cell_type": "code",
      "source": [
        "for nome, email in contatos.items():\n",
        "   print(f'o email')"
      ],
      "metadata": {
        "id": "yAWB3n_mQW41"
      },
      "execution_count": null,
      "outputs": []
    },
    {
      "cell_type": "code",
      "source": [
        "curso = {'Alice' : 8.5 , 'Tiago' : 7.0,\n",
        "         'Chico': 6.5, 'Nubia' : 10}\n",
        "#Quem obteve a maior nota?\n",
        "\n",
        "max(curso, key = curso.get)"
      ],
      "metadata": {
        "colab": {
          "base_uri": "https://localhost:8080/",
          "height": 35
        },
        "id": "Ym4lXxgcQ8My",
        "outputId": "8bd3b828-fc14-45b2-cbe0-d1842a2806ce"
      },
      "execution_count": null,
      "outputs": [
        {
          "output_type": "execute_result",
          "data": {
            "text/plain": [
              "'Nubia'"
            ],
            "application/vnd.google.colaboratory.intrinsic+json": {
              "type": "string"
            }
          },
          "metadata": {},
          "execution_count": 33
        }
      ]
    },
    {
      "cell_type": "code",
      "source": [
        "#menor nota\n",
        "min(curso, key = curso.get)"
      ],
      "metadata": {
        "colab": {
          "base_uri": "https://localhost:8080/",
          "height": 35
        },
        "id": "OsLxNTEWS4CE",
        "outputId": "db8c8254-7d44-480e-aa80-2efbcdaaaddd"
      },
      "execution_count": null,
      "outputs": [
        {
          "output_type": "execute_result",
          "data": {
            "text/plain": [
              "'Chico'"
            ],
            "application/vnd.google.colaboratory.intrinsic+json": {
              "type": "string"
            }
          },
          "metadata": {},
          "execution_count": 34
        }
      ]
    },
    {
      "cell_type": "code",
      "source": [
        "#ordenaçao de notas \n",
        "sorted(curso, key =curso.get)"
      ],
      "metadata": {
        "colab": {
          "base_uri": "https://localhost:8080/"
        },
        "id": "Duo2q9dtTbiB",
        "outputId": "bfa1f339-ddb3-4152-ba56-5d4cc3539b8a"
      },
      "execution_count": null,
      "outputs": [
        {
          "output_type": "execute_result",
          "data": {
            "text/plain": [
              "['Chico', 'Tiago', 'Alice', 'Nubia']"
            ]
          },
          "metadata": {},
          "execution_count": 35
        }
      ]
    },
    {
      "cell_type": "code",
      "source": [
        "sorted(curso,key = curso.get, reverse=True)"
      ],
      "metadata": {
        "colab": {
          "base_uri": "https://localhost:8080/"
        },
        "id": "ytn5PpsuTnw3",
        "outputId": "320691dc-f98d-4af4-f7cd-ef62fc20b843"
      },
      "execution_count": null,
      "outputs": [
        {
          "output_type": "execute_result",
          "data": {
            "text/plain": [
              "['Nubia', 'Alice', 'Tiago', 'Chico']"
            ]
          },
          "metadata": {},
          "execution_count": 36
        }
      ]
    },
    {
      "cell_type": "code",
      "source": [
        "corrida = {'ze': 10, 'marco' : 9.9 , 'marta' : 9.98, 'lurdes':10.2}\n",
        "\n",
        "#Quem chegou primeiro\n",
        "max(corrida, key=corrida.get)\n",
        " "
      ],
      "metadata": {
        "colab": {
          "base_uri": "https://localhost:8080/",
          "height": 35
        },
        "id": "Y6Sxi7NEUKXN",
        "outputId": "251c64f1-f10f-4de4-bbaf-836a53a85f31"
      },
      "execution_count": null,
      "outputs": [
        {
          "output_type": "execute_result",
          "data": {
            "text/plain": [
              "'lurdes'"
            ],
            "application/vnd.google.colaboratory.intrinsic+json": {
              "type": "string"
            }
          },
          "metadata": {},
          "execution_count": 50
        }
      ]
    },
    {
      "cell_type": "code",
      "source": [
        "min( corrida, key = corrida.get)"
      ],
      "metadata": {
        "colab": {
          "base_uri": "https://localhost:8080/",
          "height": 35
        },
        "id": "egcqj8CfVySD",
        "outputId": "c0a7730d-65da-4b7b-aac2-3aff0ac1f66c"
      },
      "execution_count": null,
      "outputs": [
        {
          "output_type": "execute_result",
          "data": {
            "text/plain": [
              "'marco'"
            ],
            "application/vnd.google.colaboratory.intrinsic+json": {
              "type": "string"
            }
          },
          "metadata": {},
          "execution_count": 51
        }
      ]
    },
    {
      "cell_type": "code",
      "source": [
        "sorted(corrida, key =corrida.get)"
      ],
      "metadata": {
        "colab": {
          "base_uri": "https://localhost:8080/"
        },
        "id": "UNc5X5b-WFPq",
        "outputId": "d1ce138a-d104-4c53-8da9-4206b7128255"
      },
      "execution_count": null,
      "outputs": [
        {
          "output_type": "execute_result",
          "data": {
            "text/plain": [
              "['marco', 'marta', 'ze', 'lurdes']"
            ]
          },
          "metadata": {},
          "execution_count": 52
        }
      ]
    },
    {
      "cell_type": "code",
      "source": [
        "sorted(corrida,key = corrida.get, reverse=True)"
      ],
      "metadata": {
        "colab": {
          "base_uri": "https://localhost:8080/"
        },
        "id": "tKIDRpFMWT_5",
        "outputId": "095de08b-e795-4d47-abbc-054b0b637df7"
      },
      "execution_count": null,
      "outputs": [
        {
          "output_type": "execute_result",
          "data": {
            "text/plain": [
              "['lurdes', 'ze', 'marta', 'marco']"
            ]
          },
          "metadata": {},
          "execution_count": 53
        }
      ]
    },
    {
      "cell_type": "code",
      "source": [
        "provaA = {'Andre' : 8.5, 'Ana' : 7.0, 'chico':6.5, 'Nubia': 10, 'Luana': 8}\n",
        "provab = {'Julio': 5.5,'Ariberto': 6.0, ' sebastiana':9.5, 'camila':10, 'João':5.0}\n",
        "\n",
        "resultado_final = {} #novo dicionario resultado_final\n",
        "resultado_final.update(provaA)\n",
        "resultado_final.update(provab)\n",
        "\n",
        "resultado_final"
      ],
      "metadata": {
        "colab": {
          "base_uri": "https://localhost:8080/"
        },
        "id": "8451xV6rF5T-",
        "outputId": "3f70525d-811b-4300-bcf4-3d100fe4375a"
      },
      "execution_count": 3,
      "outputs": [
        {
          "output_type": "execute_result",
          "data": {
            "text/plain": [
              "{'Andre': 8.5,\n",
              " 'Ana': 7.0,\n",
              " 'chico': 6.5,\n",
              " 'Nubia': 10,\n",
              " 'Luana': 8,\n",
              " 'Julio': 5.5,\n",
              " 'Ariberto': 6.0,\n",
              " ' sebastiana': 9.5,\n",
              " 'camila': 10,\n",
              " 'João': 5.0}"
            ]
          },
          "metadata": {},
          "execution_count": 3
        }
      ]
    },
    {
      "cell_type": "code",
      "source": [
        "sorted(resultado_final, key = resultado_final.get) #Ordemação crescente "
      ],
      "metadata": {
        "colab": {
          "base_uri": "https://localhost:8080/"
        },
        "id": "Tf4P5SoRHZES",
        "outputId": "d0d74aeb-ff3e-4340-8e33-639cf520a0ac"
      },
      "execution_count": 4,
      "outputs": [
        {
          "output_type": "execute_result",
          "data": {
            "text/plain": [
              "['João',\n",
              " 'Julio',\n",
              " 'Ariberto',\n",
              " 'chico',\n",
              " 'Ana',\n",
              " 'Luana',\n",
              " 'Andre',\n",
              " ' sebastiana',\n",
              " 'Nubia',\n",
              " 'camila']"
            ]
          },
          "metadata": {},
          "execution_count": 4
        }
      ]
    },
    {
      "cell_type": "code",
      "source": [
        "sorted(resultado_final, key = resultado_final.get,reverse=True)"
      ],
      "metadata": {
        "colab": {
          "base_uri": "https://localhost:8080/"
        },
        "id": "e9gE2wIfJd13",
        "outputId": "f4abf550-1022-4c90-812e-2c290e8f4e00"
      },
      "execution_count": 9,
      "outputs": [
        {
          "output_type": "execute_result",
          "data": {
            "text/plain": [
              "['Nubia',\n",
              " 'camila',\n",
              " ' sebastiana',\n",
              " 'Andre',\n",
              " 'Luana',\n",
              " 'Ana',\n",
              " 'chico',\n",
              " 'Ariberto',\n",
              " 'Julio',\n",
              " 'João']"
            ]
          },
          "metadata": {},
          "execution_count": 9
        }
      ]
    },
    {
      "cell_type": "code",
      "source": [
        "sorted(resultado_final.items(), key= lambda x: x[1], reverse=True)"
      ],
      "metadata": {
        "colab": {
          "base_uri": "https://localhost:8080/"
        },
        "id": "mcIV_zxgJu6-",
        "outputId": "2cd18869-10c9-443c-dc01-433ff921f103"
      },
      "execution_count": 10,
      "outputs": [
        {
          "output_type": "execute_result",
          "data": {
            "text/plain": [
              "[('Nubia', 10),\n",
              " ('camila', 10),\n",
              " (' sebastiana', 9.5),\n",
              " ('Andre', 8.5),\n",
              " ('Luana', 8),\n",
              " ('Ana', 7.0),\n",
              " ('chico', 6.5),\n",
              " ('Ariberto', 6.0),\n",
              " ('Julio', 5.5),\n",
              " ('João', 5.0)]"
            ]
          },
          "metadata": {},
          "execution_count": 10
        }
      ]
    },
    {
      "cell_type": "code",
      "source": [
        "provaA = {'Andre' : 8.5, 'Ana' : 7.0, 'chico':6.5, 'Nubia': 10, 'Luana': 8}\n",
        "provab = {'Julio': 5.5,'Ariberto': 6.0, ' sebastiana':9.5, 'camila':10, 'João':5.0}\n",
        "\n",
        "\n",
        "max(resultado_final, key = resultado_final.get)\n"
      ],
      "metadata": {
        "colab": {
          "base_uri": "https://localhost:8080/",
          "height": 36
        },
        "id": "PU69m-lrIELi",
        "outputId": "89a5ba41-41a9-4859-f5ff-0a5978db1d9b"
      },
      "execution_count": 8,
      "outputs": [
        {
          "output_type": "execute_result",
          "data": {
            "text/plain": [
              "'Nubia'"
            ],
            "application/vnd.google.colaboratory.intrinsic+json": {
              "type": "string"
            }
          },
          "metadata": {},
          "execution_count": 8
        }
      ]
    },
    {
      "cell_type": "code",
      "source": [
        "for nome, note in resultado_final.items():\n",
        "  print(f'{nome} ----- {note}')"
      ],
      "metadata": {
        "colab": {
          "base_uri": "https://localhost:8080/"
        },
        "id": "XAPR_TBPKsV4",
        "outputId": "79fecc3b-70b9-4721-d6f7-e3aedd31913e"
      },
      "execution_count": 19,
      "outputs": [
        {
          "output_type": "stream",
          "name": "stdout",
          "text": [
            "Andre ----- 8.5\n",
            "Ana ----- 7.0\n",
            "chico ----- 6.5\n",
            "Nubia ----- 10\n",
            "Luana ----- 8\n",
            "Julio ----- 5.5\n",
            "Ariberto ----- 6.0\n",
            " sebastiana ----- 9.5\n",
            "camila ----- 10\n",
            "João ----- 5.0\n"
          ]
        }
      ]
    },
    {
      "cell_type": "code",
      "source": [
        "listadeCandidatos = list(resultado_final.keys())\n",
        "listadeCandidatos"
      ],
      "metadata": {
        "colab": {
          "base_uri": "https://localhost:8080/"
        },
        "id": "dmu-djCuLM9Y",
        "outputId": "1eaa5b4f-0001-4114-a38d-10c6571f3f7b"
      },
      "execution_count": 18,
      "outputs": [
        {
          "output_type": "execute_result",
          "data": {
            "text/plain": [
              "['Andre',\n",
              " 'Ana',\n",
              " 'chico',\n",
              " 'Nubia',\n",
              " 'Luana',\n",
              " 'Julio',\n",
              " 'Ariberto',\n",
              " ' sebastiana',\n",
              " 'camila',\n",
              " 'João']"
            ]
          },
          "metadata": {},
          "execution_count": 18
        }
      ]
    },
    {
      "cell_type": "code",
      "source": [
        "listanotas = list(resultado_final.values())\n",
        "listanotas"
      ],
      "metadata": {
        "colab": {
          "base_uri": "https://localhost:8080/"
        },
        "id": "WiKxU8f8MIIF",
        "outputId": "c36b9a2b-de8d-4515-b094-52c5fe5ddaae"
      },
      "execution_count": 20,
      "outputs": [
        {
          "output_type": "execute_result",
          "data": {
            "text/plain": [
              "[8.5, 7.0, 6.5, 10, 8, 5.5, 6.0, 9.5, 10, 5.0]"
            ]
          },
          "metadata": {},
          "execution_count": 20
        }
      ]
    },
    {
      "cell_type": "code",
      "source": [
        "\n",
        "def consultarnota(nome):\n",
        " return resultado_final[nome]\n",
        "\n",
        "consultarnota(\"Ana\")\n",
        "\n",
        "  "
      ],
      "metadata": {
        "colab": {
          "base_uri": "https://localhost:8080/"
        },
        "id": "vq3Om0XnM7YU",
        "outputId": "c49d9166-0b0e-4f30-8a33-472ad3e7fbfb"
      },
      "execution_count": 35,
      "outputs": [
        {
          "output_type": "execute_result",
          "data": {
            "text/plain": [
              "7.0"
            ]
          },
          "metadata": {},
          "execution_count": 35
        }
      ]
    },
    {
      "cell_type": "code",
      "source": [
        "def consultarnota(dicionario, nome):\n",
        " return dicionario.get(nome, ' Candidato não existe')\n",
        "\n",
        "consultarnota(resultado_final, \"paulo\")\n"
      ],
      "metadata": {
        "colab": {
          "base_uri": "https://localhost:8080/",
          "height": 36
        },
        "id": "kGU4U2mOQ_Om",
        "outputId": "0ad5ae73-f4d9-44fd-81e5-85d218f2ea64"
      },
      "execution_count": 36,
      "outputs": [
        {
          "output_type": "execute_result",
          "data": {
            "text/plain": [
              "' Candidato não existe'"
            ],
            "application/vnd.google.colaboratory.intrinsic+json": {
              "type": "string"
            }
          },
          "metadata": {},
          "execution_count": 36
        }
      ]
    }
  ]
}