{
  "nbformat": 4,
  "nbformat_minor": 0,
  "metadata": {
    "colab": {
      "provenance": [],
      "authorship_tag": "ABX9TyMHzXhTltF34+bF2ruoL+5w",
      "include_colab_link": true
    },
    "kernelspec": {
      "name": "python3",
      "display_name": "Python 3"
    },
    "language_info": {
      "name": "python"
    }
  },
  "cells": [
    {
      "cell_type": "markdown",
      "metadata": {
        "id": "view-in-github",
        "colab_type": "text"
      },
      "source": [
        "<a href=\"https://colab.research.google.com/github/IarleyAndre/1-AULA-PROGRAMA-O/blob/main/Aula3_2_0.ipynb\" target=\"_parent\"><img src=\"https://colab.research.google.com/assets/colab-badge.svg\" alt=\"Open In Colab\"/></a>"
      ]
    },
    {
      "cell_type": "code",
      "execution_count": 1,
      "metadata": {
        "colab": {
          "base_uri": "https://localhost:8080/"
        },
        "id": "nM4yRVq469Pg",
        "outputId": "93fca662-9ae1-45e7-8aad-54f1e64ee4ee"
      },
      "outputs": [
        {
          "output_type": "execute_result",
          "data": {
            "text/plain": [
              "[25, 4, 3, 6, 10]"
            ]
          },
          "metadata": {},
          "execution_count": 1
        }
      ],
      "source": [
        "#listas são estruturas de dados formados por elementos do mesmo tipo\n",
        "\n",
        "numeros = [25, 4 , 3 , 6 , 10]\n",
        "len(numeros)\n",
        "numeros\n"
      ]
    },
    {
      "cell_type": "code",
      "source": [
        "#tamanho de uma lista\n",
        "len(numeros)\n"
      ],
      "metadata": {
        "id": "lfA7HXss7y2S"
      },
      "execution_count": null,
      "outputs": []
    },
    {
      "cell_type": "code",
      "source": [
        "#indices [25, 4 ,3 , 6]\n",
        "print(numeros[1])\n",
        "print(numeros[2])\n",
        "print(numeros[3])\n",
        "print(numeros[4])"
      ],
      "metadata": {
        "id": "tNdMhdmE863W"
      },
      "execution_count": null,
      "outputs": []
    },
    {
      "cell_type": "code",
      "source": [
        "#lista de outros tipos \n",
        "\n",
        "alunos =['mariana', 'luiz', 'higor', 'enzo', 'valentina']\n",
        "alunos "
      ],
      "metadata": {
        "colab": {
          "base_uri": "https://localhost:8080/"
        },
        "id": "fYuEWRvE9o-F",
        "outputId": "a51857cf-722c-4961-c3f9-c749ba06f02d"
      },
      "execution_count": 4,
      "outputs": [
        {
          "output_type": "execute_result",
          "data": {
            "text/plain": [
              "['mariana', 'luiz', 'higor', 'enzo', 'valentina']"
            ]
          },
          "metadata": {},
          "execution_count": 4
        }
      ]
    },
    {
      "cell_type": "code",
      "source": [
        "#alterar os valores dos itens da lista \n",
        "alunos[3] = 'ivan'\n",
        "alunos"
      ],
      "metadata": {
        "colab": {
          "base_uri": "https://localhost:8080/"
        },
        "id": "YNwjJYSH-WR4",
        "outputId": "164d8329-f252-4565-bf82-17f774cb0cd8"
      },
      "execution_count": 6,
      "outputs": [
        {
          "output_type": "execute_result",
          "data": {
            "text/plain": [
              "['mariana', 'luiz', 'higor', 'ivan', 'valentina']"
            ]
          },
          "metadata": {},
          "execution_count": 6
        }
      ]
    },
    {
      "cell_type": "code",
      "source": [
        "#inserir valores a lista .appendi()\n",
        "alunos.append('rodrigo')\n",
        "alunos"
      ],
      "metadata": {
        "colab": {
          "base_uri": "https://localhost:8080/"
        },
        "id": "5vFI8of4-358",
        "outputId": "4ce7e718-337b-4473-c8f8-68145f8b2300"
      },
      "execution_count": 7,
      "outputs": [
        {
          "output_type": "execute_result",
          "data": {
            "text/plain": [
              "['mariana', 'luiz', 'higor', 'ivan', 'valentina', 'rodrigo']"
            ]
          },
          "metadata": {},
          "execution_count": 7
        }
      ]
    },
    {
      "cell_type": "code",
      "source": [
        "alunos.append(input(\"Digite seu nome:\"))"
      ],
      "metadata": {
        "colab": {
          "base_uri": "https://localhost:8080/"
        },
        "id": "5cFdT-Et_yCp",
        "outputId": "29fbb2c5-075f-4609-b88a-16fd0d2584c7"
      },
      "execution_count": 15,
      "outputs": [
        {
          "name": "stdout",
          "output_type": "stream",
          "text": [
            "Digite seu nome:Tiago\n"
          ]
        }
      ]
    },
    {
      "cell_type": "code",
      "source": [
        "alunos\n"
      ],
      "metadata": {
        "colab": {
          "base_uri": "https://localhost:8080/"
        },
        "id": "3OGJJcs4__vS",
        "outputId": "0d8acd03-66af-44b0-b6ac-6d98a0d6391e"
      },
      "execution_count": 16,
      "outputs": [
        {
          "output_type": "execute_result",
          "data": {
            "text/plain": [
              "['mariana',\n",
              " 'luiz',\n",
              " 'higor',\n",
              " 'ivan',\n",
              " 'valentina',\n",
              " 'rodrigo',\n",
              " 'iarley',\n",
              " 'iarley, junior',\n",
              " 'tiago',\n",
              " 'Tiago']"
            ]
          },
          "metadata": {},
          "execution_count": 16
        }
      ]
    },
    {
      "cell_type": "code",
      "source": [],
      "metadata": {
        "id": "RvUsTonvBaec"
      },
      "execution_count": null,
      "outputs": []
    }
  ]
}